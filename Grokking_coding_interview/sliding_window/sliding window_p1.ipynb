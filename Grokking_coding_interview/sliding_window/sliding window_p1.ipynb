{
 "cells": [
  {
   "cell_type": "markdown",
   "metadata": {},
   "source": [
    "problem: \n",
    "    find or calculate something among all the contiguous subarrays (or sublists) of a given size"
   ]
  },
  {
   "cell_type": "markdown",
   "metadata": {},
   "source": [
    "# example 1. \n",
    "Given an array of positive numbers and a positive number ‘k,’ \n",
    "\n",
    "find the maximum sum of any contiguous subarray of size ‘k’.\n",
    "\n",
    "Input: [2, 1, 5, 1, 3, 2], k=3 \n",
    "\n",
    "Output: 9\n",
    "\n",
    "Explanation: Subarray with maximum sum is [5, 1, 3]."
   ]
  },
  {
   "cell_type": "code",
   "execution_count": 3,
   "metadata": {},
   "outputs": [
    {
     "data": {
      "text/plain": [
       "9"
      ]
     },
     "execution_count": 3,
     "metadata": {},
     "output_type": "execute_result"
    }
   ],
   "source": [
    "# brute force method\n",
    "def max_sub_array_of_size_k(k, arr):\n",
    "    max_sum= 0\n",
    "    for start in range(0, len(arr)-k):\n",
    "        current_sum = 0\n",
    "        for end in range(start, start + k):\n",
    "            current_sum += arr[end]\n",
    "        max_sum = max(max_sum, current_sum)\n",
    "    return max_sum\n",
    "max_sub_array_of_size_k(3, [2,1,5,1,3,2])"
   ]
  },
  {
   "cell_type": "code",
   "execution_count": 5,
   "metadata": {},
   "outputs": [
    {
     "name": "stdout",
     "output_type": "stream",
     "text": [
      "Maximum sum of a subarray of size K: 9\n",
      "Maximum sum of a subarray of size K: 7\n"
     ]
    }
   ],
   "source": [
    "# sliding window\n",
    "def max_sub_array_of_size_k(k, arr):\n",
    "    max_sum, window_sum = 0, 0\n",
    "    window_start = 0\n",
    "    \n",
    "    for window_end in range(len(arr)):\n",
    "        window_sum += arr[window_end] # 2. add tail\n",
    "        \n",
    "        if window_end >= k - 1: # we got a window\n",
    "            max_sum = max(max_sum, window_sum)\n",
    "            window_sum -= arr[window_start] # 1, remove head\n",
    "            window_start += 1 # move window\n",
    "            \n",
    "            \n",
    "    return max_sum\n",
    "\n",
    "\n",
    "def main():\n",
    "    print(\"Maximum sum of a subarray of size K: \" + str(max_sub_array_of_size_k(3, [2, 1, 5, 1, 3, 2])))\n",
    "    print(\"Maximum sum of a subarray of size K: \" + str(max_sub_array_of_size_k(2, [2, 3, 4, 1, 5])))\n",
    "\n",
    "main()    "
   ]
  },
  {
   "cell_type": "markdown",
   "metadata": {},
   "source": [
    "# example 2."
   ]
  },
  {
   "cell_type": "markdown",
   "metadata": {},
   "source": [
    "Given an array, find the average of all contiguous subarrays of size ‘K’ in it.\n",
    "\n",
    "example:\n",
    "    \n",
    "    Array: [1, 3, 2, 6, -1, 4, 1, 8, 2], K=5"
   ]
  },
  {
   "cell_type": "code",
   "execution_count": 24,
   "metadata": {},
   "outputs": [],
   "source": [
    "def find_averages_of_subarrays(K, arr):\n",
    "    result = []\n",
    "    windowSum, windowStart = 0.0, 0\n",
    "    for windowEnd in range(len(arr)):\n",
    "        windowSum += arr[windowEnd]  # add the next element\n",
    "    # slide the window, we don't need to slide if we've not hit the required window size of 'k'\n",
    "        if windowEnd >= K - 1:\n",
    "            result.append(windowSum / K)  # calculate the average\n",
    "            windowSum -= arr[windowStart]  # subtract the element going out\n",
    "            windowStart += 1  # slide the window ahead\n",
    "\n",
    "    return result"
   ]
  },
  {
   "cell_type": "code",
   "execution_count": 25,
   "metadata": {},
   "outputs": [],
   "source": [
    "result = find_averages_of_subarrays(5, [1,3,2,6,-1,4,1,8,2])"
   ]
  },
  {
   "cell_type": "code",
   "execution_count": 26,
   "metadata": {},
   "outputs": [
    {
     "data": {
      "text/plain": [
       "[2.2, 2.8, 2.4, 3.6, 2.8]"
      ]
     },
     "execution_count": 26,
     "metadata": {},
     "output_type": "execute_result"
    }
   ],
   "source": [
    "result"
   ]
  },
  {
   "cell_type": "markdown",
   "metadata": {},
   "source": [
    "In some problems, the size of the sliding window is not fixed. We have to expand or shrink the window based on the problem constraints."
   ]
  },
  {
   "cell_type": "markdown",
   "metadata": {},
   "source": [
    "# example 3. Smallest Subarray with a given sum"
   ]
  },
  {
   "cell_type": "markdown",
   "metadata": {},
   "source": [
    "Given an array of positive numbers and a positive number ‘S,’ find the length of the smallest contiguous subarray whose sum is greater than or equal to ‘S’. Return 0 if no such subarray exists.\n",
    "\n",
    "Input: [2, 1, 5, 2, 3, 2], S=7 \n",
    "\n",
    "Output: 2\n",
    "\n",
    "Explanation: The smallest subarray with a sum great than or equal to '7' is [5, 2].\n"
   ]
  },
  {
   "cell_type": "code",
   "execution_count": 9,
   "metadata": {},
   "outputs": [
    {
     "name": "stdout",
     "output_type": "stream",
     "text": [
      "Smallest subarray length: 2\n",
      "Smallest subarray length: 1\n",
      "Smallest subarray length: 3\n"
     ]
    }
   ],
   "source": [
    "import math\n",
    "\n",
    "\n",
    "def smallest_subarray_with_given_sum(s, arr):\n",
    "    window_sum = 0\n",
    "    min_length = math.inf\n",
    "    window_start = 0\n",
    "\n",
    "    for window_end in range(0, len(arr)):\n",
    "        window_sum += arr[window_end]  # add the next element\n",
    "        # shrink the window as small as possible until the 'window_sum' is smaller than 's'\n",
    "        while window_sum >= s:\n",
    "            min_length = min(min_length, window_end - window_start + 1)\n",
    "            window_sum -= arr[window_start]\n",
    "            window_start += 1\n",
    "    if min_length == math.inf:\n",
    "        return 0\n",
    "    return min_length\n",
    "\n",
    "\n",
    "def main():\n",
    "    print(\"Smallest subarray length: \" + str(smallest_subarray_with_given_sum(7, [2, 1, 5, 2, 3, 2])))\n",
    "    print(\"Smallest subarray length: \" + str(smallest_subarray_with_given_sum(7, [2, 1, 5, 2, 8])))\n",
    "    print(\"Smallest subarray length: \" + str(smallest_subarray_with_given_sum(8, [3, 4, 1, 1, 6])))\n",
    "\n",
    "\n",
    "main()"
   ]
  },
  {
   "cell_type": "code",
   "execution_count": 10,
   "metadata": {},
   "outputs": [
    {
     "name": "stdout",
     "output_type": "stream",
     "text": [
      "Smallest subarray length: 2\n",
      "Smallest subarray length: 1\n",
      "Smallest subarray length: 3\n"
     ]
    }
   ],
   "source": [
    "import math\n",
    "def smallest_subarray_with_given_sum(s, arr):\n",
    "    window_sum = 0\n",
    "    min_len = math.inf\n",
    "    window_start = 0\n",
    "    \n",
    "    for window_end in range(len(arr)):\n",
    "        window_sum += arr[window_end]\n",
    "        while window_sum >= s: # shrink this window (with fixed ending point)\n",
    "            min_len = min(min_len, window_end-window_start+1)\n",
    "            window_sum -= arr[window_start]\n",
    "            window_start += 1 # this is shrinking.\n",
    "            \n",
    "    if min_len == math.inf:\n",
    "        return 0\n",
    "    \n",
    "    return min_len\n",
    "\n",
    "def main():\n",
    "    print(\"Smallest subarray length: \" + str(smallest_subarray_with_given_sum(7, [2, 1, 5, 2, 3, 2])))\n",
    "    print(\"Smallest subarray length: \" + str(smallest_subarray_with_given_sum(7, [2, 1, 5, 2, 8])))\n",
    "    print(\"Smallest subarray length: \" + str(smallest_subarray_with_given_sum(8, [3, 4, 1, 1, 6])))\n",
    "\n",
    "\n",
    "main()          "
   ]
  },
  {
   "cell_type": "markdown",
   "metadata": {},
   "source": [
    "# example 4. Longest Substring with K Distinct Characters (medium)\n",
    "\n",
    "Given a string, find the length of the longest substring in it with no more than K distinct characters.\n",
    "\n",
    "Input: String=\"araaci\", K=2\n",
    "\n",
    "Output: 4\n",
    "\n",
    "Explanation: The longest substring with no more than '2' distinct characters is \"araa.\""
   ]
  },
  {
   "cell_type": "code",
   "execution_count": 12,
   "metadata": {},
   "outputs": [
    {
     "name": "stdout",
     "output_type": "stream",
     "text": [
      "Length of the longest substr1ing: 4\n",
      "Length of the longest substr1ing: 2\n",
      "Length of the longest substr1ing: 5\n"
     ]
    }
   ],
   "source": [
    "def longest_substring_with_k_distinct(str1, k):\n",
    "    window_start = 0\n",
    "    max_length = 0\n",
    "    char_frequency = {}\n",
    "\n",
    "    # in the following loop we'll try to extend the range [window_start, window_end]\n",
    "    for window_end in range(len(str1)):\n",
    "        right_char = str1[window_end]\n",
    "        if right_char not in char_frequency:\n",
    "            char_frequency[right_char] = 0\n",
    "        char_frequency[right_char] += 1\n",
    "\n",
    "        # shrink the sliding window, until we are left with 'k' distinct characters in the char_frequency\n",
    "        while len(char_frequency) > k:\n",
    "            left_char = str1[window_start]\n",
    "            char_frequency[left_char] -= 1\n",
    "            if char_frequency[left_char] == 0:\n",
    "                del char_frequency[left_char]\n",
    "            window_start += 1  # shrink the window\n",
    "        # remember the maximum length so far\n",
    "        max_length = max(max_length, window_end-window_start + 1)\n",
    "    return max_length\n",
    "\n",
    "\n",
    "def main():\n",
    "    print(\"Length of the longest substr1ing: \" + str(longest_substring_with_k_distinct(\"araaci\", 2)))\n",
    "    print(\"Length of the longest substr1ing: \" + str(longest_substring_with_k_distinct(\"araaci\", 1)))\n",
    "    print(\"Length of the longest substr1ing: \" + str(longest_substring_with_k_distinct(\"cbbebi\", 3)))\n",
    "\n",
    "\n",
    "main()"
   ]
  },
  {
   "cell_type": "code",
   "execution_count": 15,
   "metadata": {},
   "outputs": [
    {
     "name": "stdout",
     "output_type": "stream",
     "text": [
      "Length of the longest substr1ing: 4\n",
      "Length of the longest substr1ing: 2\n",
      "Length of the longest substr1ing: 5\n"
     ]
    }
   ],
   "source": [
    "def longest_substring_with_k_distinct(str1, k):\n",
    "    max_length = 0\n",
    "    window_start = 0\n",
    "    char_set = {}\n",
    "    \n",
    "    for window_end in range(len(str1)):\n",
    "        right_char = str1[window_end]\n",
    "        if right_char not in char_set:\n",
    "            char_set[right_char] = 0\n",
    "        char_set[right_char] += 1\n",
    "        \n",
    "        while len(char_set) > k: # shrink window until len(char_set) == k\n",
    "            left_char = str1[window_start]\n",
    "            char_set[left_char] -= 1\n",
    "            if char_set[left_char] == 0:\n",
    "                del char_set[left_char]\n",
    "            window_start += 1\n",
    "        max_length = max(max_length, window_end - window_start + 1)\n",
    "    return max_length\n",
    "\n",
    "def main():\n",
    "    print(\"Length of the longest substr1ing: \" + str(longest_substring_with_k_distinct(\"araaci\", 2)))\n",
    "    print(\"Length of the longest substr1ing: \" + str(longest_substring_with_k_distinct(\"araaci\", 1)))\n",
    "    print(\"Length of the longest substr1ing: \" + str(longest_substring_with_k_distinct(\"cbbebi\", 3)))\n",
    "\n",
    "\n",
    "main()"
   ]
  },
  {
   "cell_type": "code",
   "execution_count": 13,
   "metadata": {},
   "outputs": [
    {
     "name": "stdout",
     "output_type": "stream",
     "text": [
      "99\n"
     ]
    }
   ],
   "source": [
    "i = 100\n",
    "if i >50:\n",
    "    i -= 1\n",
    "print(i)"
   ]
  },
  {
   "cell_type": "code",
   "execution_count": 14,
   "metadata": {},
   "outputs": [
    {
     "name": "stdout",
     "output_type": "stream",
     "text": [
      "50\n"
     ]
    }
   ],
   "source": [
    "i = 100\n",
    "while i > 50:\n",
    "    i -= 1\n",
    "print(i)"
   ]
  },
  {
   "cell_type": "code",
   "execution_count": null,
   "metadata": {},
   "outputs": [],
   "source": []
  }
 ],
 "metadata": {
  "kernelspec": {
   "display_name": "Python 3",
   "language": "python",
   "name": "python3"
  },
  "language_info": {
   "codemirror_mode": {
    "name": "ipython",
    "version": 3
   },
   "file_extension": ".py",
   "mimetype": "text/x-python",
   "name": "python",
   "nbconvert_exporter": "python",
   "pygments_lexer": "ipython3",
   "version": "3.7.6"
  }
 },
 "nbformat": 4,
 "nbformat_minor": 4
}
