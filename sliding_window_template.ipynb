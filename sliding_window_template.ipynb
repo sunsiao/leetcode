{
 "cells": [
  {
   "cell_type": "raw",
   "metadata": {},
   "source": [
    "import math\n",
    "def my_fun(arr, some_constrain):\n",
    "    window_start = 0\n",
    "    max_object = 0\n",
    "#     min_object = math.inf\n",
    "    \n",
    "    window_object = 0\n",
    "#     window_constraint = {} # window_size (if fixed) is also a constraint\n",
    "\n",
    "    for window_end in range(len(arr)):\n",
    "        Do something to window_object \n",
    "        Do something to window_constrain\n",
    "        \n",
    "        if satisfy window_constrain or\n",
    "        while window_constrain not satisfied:\n",
    "            slide window\n",
    "            update window_object\n",
    "            \n",
    "        update window_object\n",
    "        \n",
    "    return object"
   ]
  }
 ],
 "metadata": {
  "kernelspec": {
   "display_name": "Python 3",
   "language": "python",
   "name": "python3"
  },
  "language_info": {
   "codemirror_mode": {
    "name": "ipython",
    "version": 3
   },
   "file_extension": ".py",
   "mimetype": "text/x-python",
   "name": "python",
   "nbconvert_exporter": "python",
   "pygments_lexer": "ipython3",
   "version": "3.7.6"
  }
 },
 "nbformat": 4,
 "nbformat_minor": 4
}
