{
 "cells": [
  {
   "cell_type": "markdown",
   "metadata": {},
   "source": [
    "# example 5. Fruits into baskets (medium)\n",
    "\n",
    "Given an array of characters where each character represents a fruit tree, you are given two baskets, and your goal is to put maximum number of fruits in each basket. The only restriction is that each basket can have only one type of fruit.\n",
    "\n",
    "You can start with any tree, but you can’t skip a tree once you have started. You will pick one fruit from each tree until you cannot, i.e., you will stop when you have to pick from a third fruit type.\n",
    "\n",
    "Write a function to return the maximum number of fruits in both the baskets.\n",
    "\n",
    "\n",
    "\n",
    "Input: Fruit=['A', 'B', 'C', 'A', 'C']\n",
    "\n",
    "Output: 3\n",
    "\n",
    "Explanation: We can put 2 'C' in one basket and one 'A' in the other from the subarray ['C', 'A', 'C']"
   ]
  },
  {
   "cell_type": "markdown",
   "metadata": {},
   "source": [
    "This problem follows the Sliding Window pattern and is quite similar to Longest Substring with K Distinct Characters."
   ]
  },
  {
   "cell_type": "code",
   "execution_count": 2,
   "metadata": {},
   "outputs": [
    {
     "name": "stdout",
     "output_type": "stream",
     "text": [
      "Maximum number of fruits: 3\n",
      "Maximum number of fruits: 5\n"
     ]
    }
   ],
   "source": [
    "# try it myself\n",
    "def fruits_into_baskets(fruits):\n",
    "    fruit_set = {}\n",
    "    window_start = 0\n",
    "    max_num = 0\n",
    "    \n",
    "    for window_end in range(len(fruits)):\n",
    "        right_fruit = fruits[window_end]\n",
    "        if right_fruit not in fruit_set:\n",
    "            fruit_set[right_fruit] = 0\n",
    "        fruit_set[right_fruit] += 1\n",
    "    \n",
    "        while len(fruit_set) > 2:\n",
    "            left_fruit = fruits[window_start]\n",
    "            fruit_set[left_fruit] -= 1\n",
    "            if fruit_set[left_fruit] == 0:\n",
    "                del fruit_set[left_fruit]\n",
    "            window_start += 1\n",
    "        max_num = max(max_num, window_end-window_start+1)\n",
    "    return max_num\n",
    "\n",
    "def main():\n",
    "    print(\"Maximum number of fruits: \" + str(fruits_into_baskets(['A', 'B', 'C', 'A', 'C'])))\n",
    "    print(\"Maximum number of fruits: \" + str(fruits_into_baskets(['A', 'B', 'C', 'B', 'B', 'C'])))\n",
    "\n",
    "\n",
    "main()\n",
    "\n",
    "\n"
   ]
  },
  {
   "cell_type": "markdown",
   "metadata": {},
   "source": [
    "Similar Problems #\n",
    "Problem 1: Longest Substring with at most 2 distinct characters\n",
    "\n",
    "Given a string, find the length of the longest substring in it with at most two distinct characters.\n",
    "\n",
    "Solution: This problem is exactly similar to our parent problem."
   ]
  },
  {
   "cell_type": "markdown",
   "metadata": {},
   "source": [
    "# example 6. No-repeat Substring (hard)\n",
    "\n",
    "Problem Statement \n",
    "\n",
    "Given a string, find the length of the longest substring, which has no repeating characters.\n",
    "\n",
    "Input: String=\"aabccbb\"\n",
    "\n",
    "Output: 3\n",
    "    \n",
    "Explanation: The longest substring without any repeating characters is \"abc\"."
   ]
  },
  {
   "cell_type": "markdown",
   "metadata": {},
   "source": [
    "This problem follows the Sliding Window pattern, and we can use a similar dynamic sliding window strategy as discussed in Longest Substring with K Distinct Characters. We can use a HashMap to remember the last index of each character we have processed. Whenever we get a repeating character, we will shrink our sliding window to ensure that we always have distinct characters in the sliding window."
   ]
  },
  {
   "cell_type": "markdown",
   "metadata": {},
   "source": [
    "就是把Longest Substring with K Distinct Characters中的K设为1"
   ]
  },
  {
   "cell_type": "markdown",
   "metadata": {},
   "source": [
    "不止如此！"
   ]
  },
  {
   "cell_type": "markdown",
   "metadata": {},
   "source": [
    "use a HashMap to remember the last index of each character we have processed； hash map不止可以用来记录出现的频数，还可以用来记录出现的位置"
   ]
  },
  {
   "cell_type": "code",
   "execution_count": 14,
   "metadata": {},
   "outputs": [
    {
     "name": "stdout",
     "output_type": "stream",
     "text": [
      "Length of the longest substring: 3\n",
      "Length of the longest substring: 2\n",
      "Length of the longest substring: 3\n"
     ]
    }
   ],
   "source": [
    "def non_repeat_substring(arr):\n",
    "    window_start = 0\n",
    "    char_index_map = {}\n",
    "    max_len = 0\n",
    "    \n",
    "    for window_end in range(len(arr)):\n",
    "        right_char = arr[window_end]\n",
    "        # if the map already contains the 'right_char', shrink the window from the beginning so that\n",
    "        # we have only one occurrence of 'right_char'\n",
    "        if right_char in char_index_map: # we decide to keep the current right_char (the one at window_end)\n",
    "\n",
    "      # this is tricky; in the current window, we will not have any 'right_char' after its previous index\n",
    "      # and if 'window_start' is already ahead of the last index of 'right_char', we'll keep 'window_start'\n",
    "            window_start = max(window_start, char_index_map[right_char] + 1)\n",
    "            # insert the 'right_char' into the map\n",
    "        char_index_map[right_char] = window_end\n",
    "            # remember the maximum length so far\n",
    "        max_len = max(max_len, window_end - window_start + 1)\n",
    "    return max_len\n",
    "\n",
    "def main():\n",
    "    print(\"Length of the longest substring: \" + str(non_repeat_substring(\"aabccbb\")))\n",
    "    print(\"Length of the longest substring: \" + str(non_repeat_substring(\"abbbb\")))\n",
    "    print(\"Length of the longest substring: \" + str(non_repeat_substring(\"abccde\")))\n",
    "\n",
    "\n",
    "main()"
   ]
  },
  {
   "cell_type": "markdown",
   "metadata": {},
   "source": [
    "The algorithm’s space complexity will be O(K), where K is the number of distinct characters in the input string. This also means K<=N, because in the worst case, the whole string might not have any repeating character, so the entire string will be added to the HashMap. \n",
    "\n",
    "Having said that, since we can expect a fixed set of characters in the input string (e.g., 26 for English letters), we can say that the algorithm runs in fixed space O(1); \n",
    "\n",
    "in this case, we can use a fixed-size array instead of the HashMap.\n",
    "\n"
   ]
  },
  {
   "cell_type": "markdown",
   "metadata": {},
   "source": [
    "# example 7. Longest Substring with Same Letters after Replacement (hard)\n",
    "\n",
    "Problem Statement #\n",
    "Given a string with lowercase letters only, if you are allowed to replace no more than ‘k’ letters with any letter, find the length of the longest substring having the same letters after replacement.\n",
    "\n",
    "\n",
    "Input: String=\"aabccbb\", k=2\n",
    "\n",
    "Output: 5\n",
    "\n",
    "Explanation: Replace the two 'c' with 'b' to have a longest repeating substring \"bbbbb\"."
   ]
  },
  {
   "cell_type": "markdown",
   "metadata": {},
   "source": [
    "similar dynamic sliding window strategy as discussed in No-repeat Substring. \n",
    "We can use a HashMap to count the frequency of each letter.\n",
    "\n",
    "We’ll iterate through the string to add one letter at a time in the window.\n",
    "\n",
    "We’ll also keep track of the count of the maximum repeating letter in any window (let’s call it maxRepeatLetterCount).\n",
    "\n",
    "So, at any time, we know that we can have a window which has one letter repeating maxRepeatLetterCount times; this means we should try to replace the remaining letters.\n",
    "\n",
    "If we have more than ‘k’ remaining letters, we should shrink the window as we are not allowed to replace more than ‘k’ letters."
   ]
  },
  {
   "cell_type": "markdown",
   "metadata": {},
   "source": [
    "While shrinking the window, we don’t need to update maxRepeatLetterCount (which makes it global count; hence, it is the maximum count for ANY window). Why don’t we need to update this count when we shrink the window? The answer: In any window, since we have to replace all the remaining letters to get the longest substring having the same letter, we can’t get a better answer from any other window even though all occurrences of the letter with frequency maxRepeatLetterCount is not in the current window."
   ]
  },
  {
   "cell_type": "code",
   "execution_count": null,
   "metadata": {},
   "outputs": [],
   "source": []
  }
 ],
 "metadata": {
  "kernelspec": {
   "display_name": "Python 3",
   "language": "python",
   "name": "python3"
  },
  "language_info": {
   "codemirror_mode": {
    "name": "ipython",
    "version": 3
   },
   "file_extension": ".py",
   "mimetype": "text/x-python",
   "name": "python",
   "nbconvert_exporter": "python",
   "pygments_lexer": "ipython3",
   "version": "3.7.6"
  }
 },
 "nbformat": 4,
 "nbformat_minor": 4
}
